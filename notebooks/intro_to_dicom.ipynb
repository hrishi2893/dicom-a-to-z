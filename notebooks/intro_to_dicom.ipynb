{
 "cells": [
  {
   "cell_type": "markdown",
   "metadata": {},
   "source": [
    "# Introduction to DICOM with Python\n",
    "\n",
    "Welcome to the first module of **DICOM A to Z**!\n",
    "\n",
    "In this notebook, you'll learn:\n",
    "- What is DICOM?\n",
    "- How to load and inspect DICOM files using Python\n",
    "- How to visualize medical images\n",
    "\n",
    "Let's get started!"
   ]
  },
  {
   "cell_type": "markdown",
   "metadata": {},
   "source": [
    "## What is DICOM?\n",
    "\n",
    "DICOM (Digital Imaging and Communications in Medicine) is the standard for handling, storing, and transmitting information in medical imaging.\n",
    "\n",
    "DICOM files usually have a `.dcm` extension and contain both image data and metadata (patient ID, modality, etc.)."
   ]
  },
  {
   "cell_type": "markdown",
   "metadata": {},
   "source": [
    "## Setup\n",
    "\n",
    "First, ensure you have the necessary libraries installed. If not, run:\n",
    "```bash\n",
    "pip install pydicom matplotlib numpy\n",
    "```"
   ]
  },
  {
   "cell_type": "code",
   "metadata": {},
   "execution_count": null,
   "outputs": [],
   "source": [
    "# Import libraries\n",
    "import pydicom\n",
    "import matplotlib.pyplot as plt\n",
    "import numpy as np\n",
    "import os"
   ]
  },
  {
   "cell_type": "markdown",
   "metadata": {},
   "source": [
    "## Loading a DICOM File\n",
    "\n",
    "Let's load a sample DICOM file from the `data/` directory."
   ]
  },
  {
   "cell_type": "code",
   "metadata": {},
   "execution_count": null,
   "outputs": [],
   "source": [
    "# List files in the data directory\n",
    "data_dir = '../data'\n",
    "dicom_files = [f for f in os.listdir(data_dir) if f.endswith('.dcm')]\n",
    "print(f\"Found DICOM files: {dicom_files}\")"
   ]
  },
  {
   "cell_type": "code",
   "metadata": {},
   "execution_count": null,
   "outputs": [],
   "source": [
    "# Load the first DICOM file\n",
    "if dicom_files:\n",
    "    dcm_path = os.path.join(data_dir, dicom_files[0])\n",
    "    ds = pydicom.dcmread(dcm_path)\n",
    "    print(ds)\n",
    "else:\n",
    "    print(\"No DICOM files found in the data directory.\")"
   ]
  },
  {
   "cell_type": "markdown",
   "metadata": {},
   "source": [
    "## Viewing DICOM Image Data\n",
    "\n",
    "If the DICOM file contains image data, let's visualize it."
   ]
  },
  {
   "cell_type": "code",
   "metadata": {},
   "execution_count": null,
   "outputs": [],
   "source": [
    "# Visualize the image (if present)\n",
    "if dicom_files:\n",
    "    if hasattr(ds, 'pixel_array'):\n",
    "        plt.imshow(ds.pixel_array, cmap=plt.cm.gray)\n",
    "        plt.title('DICOM Image')\n",
    "        plt.axis('off')\n",
    "        plt.show()\n",
    "    else:\n",
    "        print(\"No image data found in this DICOM file.\")"
   ]
  },
  {
   "cell_type": "markdown",
   "metadata": {},
   "source": [
    "## Next Steps\n",
    "\n",
    "- Try loading different DICOM files.\n",
    "- Inspect various metadata fields (e.g., `PatientName`, `Modality`).\n",
    "- Explore more in upcoming modules!"
   ]
  }
 ],
 "metadata": {
  "kernelspec": {
   "display_name": "Python 3",
   "language": "python",
   "name": "python3"
  },
  "language_info": {
   "name": "python",
   "version": ""
  }
 },
 "nbformat": 4,
 "nbformat_minor": 2
}